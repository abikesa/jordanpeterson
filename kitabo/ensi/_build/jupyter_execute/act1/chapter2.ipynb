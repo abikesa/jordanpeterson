{
 "cells": [
  {
   "cell_type": "markdown",
   "metadata": {},
   "source": [
    "# Cybertruck vs Hummer EV\n",
    "\n",
    "The similarities between the Tesla Cybertruck and the Hummer EV could be seen as reflective of a shared ethos in rugged, over-the-top design, but the argument for direct appropriation doesn't hold much weight. The Hummer EV is an evolution of GM’s military-inspired Hummer brand, retaining the boxy, muscular aesthetic that harkens back to its origins. The Cybertruck, by contrast, is a more radical, almost brutalist reimagining of what a utility vehicle can be—pushing boundaries with its sharp angles, stainless steel exoskeleton, and sci-fi aspirations.\n",
    "\n",
    "```{figure} ../figures/blanche.*\n",
    "---\n",
    "width: 1\n",
    "height: 1\n",
    "---\n",
    "_2025 Tesla Cybertruck Starting at \\$82,235_. More where that came from\n",
    "```\n",
    "\n",
    "That said, there’s no denying that both vehicles aim to dominate the electric off-road and utility market. Musk's Cybertruck seems to position itself not as an homage to the Hummer but as a deliberate challenger. While the Hummer EV leans into nostalgia paired with modern electric technology, the Cybertruck rejects nostalgia entirely, presenting itself as a disruptive force in both design and ideology.\n",
    "\n",
    "If there’s a similarity, it might be in the broader cultural trend they both tap into: vehicles as statements of power and independence, amplified by the EV revolution. Whether Musk consciously \"borrowed\" from the Hummer aesthetic or simply sought to outdo it is an open question, but knowing his penchant for audacious marketing, it’s more likely he sought to leapfrog over what the Hummer represents rather than mimic it.\n",
    "\n"
   ]
  }
 ],
 "metadata": {
  "kernelspec": {
   "display_name": "myenv",
   "language": "python",
   "name": "python3"
  },
  "language_info": {
   "codemirror_mode": {
    "name": "ipython",
    "version": 3
   },
   "file_extension": ".py",
   "mimetype": "text/x-python",
   "name": "python",
   "nbconvert_exporter": "python",
   "pygments_lexer": "ipython3",
   "version": "3.12.4"
  },
  "widgets": {
   "application/vnd.jupyter.widget-state+json": {
    "state": {},
    "version_major": 2,
    "version_minor": 0
   }
  }
 },
 "nbformat": 4,
 "nbformat_minor": 4
}