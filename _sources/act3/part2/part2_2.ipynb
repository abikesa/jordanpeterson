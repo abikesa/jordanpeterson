{
 "cells": [
  {
   "cell_type": "markdown",
   "metadata": {},
   "source": [
    "# Broligarchy\n",
    "\n",
    "<iframe src=\"https://www.youtube.com/embed/e2KYFqKahxY\" style=\"width:80%;height:350px;\"></iframe>\n",
    "\n",
    "```{figure} ../../figures/blanche.*\n",
    "---\n",
    "---\n",
    "_Getting Something Created (masculine) vs. The Optics and Performative Empathy (feminine)_. After appearing as a hunky contestant on the first ever series on Love Island, Chris Williamson's life's purpose came into focus; to create content that changed people's lives. Since appearing on the ITV reality show, Williamson has launched the 'Modern Wisdom' podcast and his own YouTube channel; boasting an impressive base of three million subscribers.\n",
    "```\n",
    "\n",
    "Making achievement great again"
   ]
  },
  {
   "cell_type": "markdown",
   "metadata": {},
   "source": [
    "#\n"
   ]
  }
 ],
 "metadata": {
  "kernelspec": {
   "display_name": "myenv",
   "language": "python",
   "name": "python3"
  },
  "language_info": {
   "codemirror_mode": {
    "name": "ipython",
    "version": 3
   },
   "file_extension": ".py",
   "mimetype": "text/x-python",
   "name": "python",
   "nbconvert_exporter": "python",
   "pygments_lexer": "ipython3",
   "version": "3.12.4"
  },
  "widgets": {
   "application/vnd.jupyter.widget-state+json": {
    "state": {},
    "version_major": 2,
    "version_minor": 0
   }
  }
 },
 "nbformat": 4,
 "nbformat_minor": 4
}
